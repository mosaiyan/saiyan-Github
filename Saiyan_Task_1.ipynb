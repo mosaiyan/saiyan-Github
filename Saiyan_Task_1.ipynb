{
  "nbformat": 4,
  "nbformat_minor": 0,
  "metadata": {
    "colab": {
      "name": "task-15/06/22.ipynb",
      "provenance": [],
      "collapsed_sections": [],
      "authorship_tag": "ABX9TyMlPyZsobSZpmdlSWi6sp0l",
      "include_colab_link": true
    },
    "kernelspec": {
      "name": "python3",
      "display_name": "Python 3"
    },
    "language_info": {
      "name": "python"
    }
  },
  "cells": [
    {
      "cell_type": "markdown",
      "metadata": {
        "id": "view-in-github",
        "colab_type": "text"
      },
      "source": [
        "<a href=\"https://colab.research.google.com/github/mosaiyan/saiyan-Github/blob/main/Saiyan_Task_1.ipynb\" target=\"_parent\"><img src=\"https://colab.research.google.com/assets/colab-badge.svg\" alt=\"Open In Colab\"/></a>"
      ]
    },
    {
      "cell_type": "markdown",
      "source": [
        "**Registration and Login system with Python,File Handling** "
      ],
      "metadata": {
        "id": "2fEeERRkXlGi"
      }
    },
    {
      "cell_type": "code",
      "source": [
        "\n",
        "import re\n",
        "regex = r'\\b[A-Za-z0-9]+@[A-Za-z0-9-]+\\.[A-Z|a-z]{2,}\\b'\n",
        "def check(email):\n",
        "    if(re.fullmatch(regex, email)):\n",
        "        return email\n",
        "    else:\n",
        "        mail_id = input(\"enter valid mail id : \")\n",
        "        check(mail_id)\n",
        "    \n",
        "    \n",
        "    \n",
        "def valid_password(password):\n",
        "    u=0\n",
        "    l=0\n",
        "    d=0\n",
        "    s=0\n",
        "    special_characters = \"!@#$%^&*()-+?_=,<>/\"\n",
        "    if (len(password)>5 and len(password)<16):\n",
        "        for i in password:\n",
        "            if (i.isupper()):\n",
        "                u=u+1\n",
        "            if (i.islower()):\n",
        "                l=l+1\n",
        "            if (i.isdigit()):\n",
        "                d=d+1\n",
        "            if i in special_characters:\n",
        "                s=s+1\n",
        "    if(u>=1 and l>=1 and d>=1 and s>=1 and u+l+d+s==len(password)):\n",
        "            return password\n",
        "    else:\n",
        "            p=input(\"enter valid password : \")\n",
        "            valid_password(p)\n",
        "    \n",
        "    \n",
        "def register():\n",
        "    #check if user already exists\n",
        "    print(\"-------------USER REGISTRATION----------\",'\\n')\n",
        "    username = check(input(\"Please enter your username : \"))\n",
        "    password = valid_password(input(\"Please enter the password : \"))\n",
        "    file = open(\"accountfile.txt\",\"a\")\n",
        "    file.write(username)\n",
        "    file.write(\" \")\n",
        "    file.write(password)\n",
        "    file.write(\"\\n\")\n",
        "    file.close()\n",
        "    print(\"Successfully registed\")\n",
        "    main()\n",
        "    \n",
        "def login():\n",
        "    print(\"-------------USER LOGIN----------\",'\\n')\n",
        "    username = input(\"Please enter your username : \")\n",
        "    password = input(\"Please enter your password : \")  \n",
        "    for line in open(\"accountfile.txt\",\"r\").readlines(): # Read the lines\n",
        "        print(username, password)\n",
        "        login_info = line.split() # Split on the space, and store the results in a list of two strings\n",
        "        if username == login_info[0] and password == login_info[1]:\n",
        "            print(\"Correct credentials!\")\n",
        "            return True\n",
        "    print(\"Incorrect credentials.Please check with your username or password!\")\n",
        "    return False\n",
        "\n",
        "def forgot_password():\n",
        "    print(\"-------------FORGOT PASSWORD----------\",'\\n')\n",
        "    username = input(\"Please enter your username : \")  \n",
        "    for line in open(\"accountfile.txt\",\"r\").readlines(): # Read the lines\n",
        "        login_info = line.split() # Split on the space, and store the results in a list of two strings\n",
        "        if username == login_info[0]:\n",
        "            print(\"Here is your password:\",login_info[1])\n",
        "            return True\n",
        "    print(\"Username not found! please register\")\n",
        "    register()\n",
        "\n",
        "def main():\n",
        "    print(\"Welcome to SMS\")\n",
        "    print(\"Choose one option for the process\")\n",
        "    print(\"Registration--> 1\")\n",
        "    print(\"Login--> 2\")\n",
        "    print(\"Forgot Password--> 3\")\n",
        "    l = int(input())\n",
        "    if(l==1):\n",
        "        register()\n",
        "    elif(l==2):\n",
        "        login()\n",
        "    elif (l==3):\n",
        "        forgot_password()\n",
        "    else:\n",
        "        print(\"please enter any of the above option\")\n",
        "main()"
      ],
      "metadata": {
        "colab": {
          "base_uri": "https://localhost:8080/"
        },
        "id": "InGJGM0W888n",
        "outputId": "a06568f9-82db-4e1e-e567-6ee1edbb04dc"
      },
      "execution_count": null,
      "outputs": [
        {
          "output_type": "stream",
          "name": "stdout",
          "text": [
            "Welcome to SMS\n",
            "Choose one option for the process\n",
            "Registration--> 1\n",
            "Login--> 2\n",
            "Forgot Password--> 3\n",
            "1\n",
            "-------------USER REGISTRATION---------- \n",
            "\n",
            "Please enter your username : mohammedsaiyan97@gmail.com\n",
            "Please enter the password : s@iy@N23\n",
            "Successfully registed\n",
            "Welcome to SMS\n",
            "Choose one option for the process\n",
            "Registration--> 1\n",
            "Login--> 2\n",
            "Forgot Password--> 3\n",
            "3\n",
            "-------------FORGOT PASSWORD---------- \n",
            "\n",
            "Please enter your username : mohammedsaiyan97@gmail.com\n",
            "Here is your password: s@iy@N23\n"
          ]
        }
      ]
    }
  ]
}